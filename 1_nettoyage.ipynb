{
 "cells": [
  {
   "cell_type": "markdown",
   "id": "04455b41",
   "metadata": {},
   "source": [
    "# Nettoyage des données initiales - partie II. 1."
   ]
  },
  {
   "cell_type": "code",
   "execution_count": 1,
   "id": "622e698e",
   "metadata": {},
   "outputs": [],
   "source": [
    "# import librairie\n",
    "import pandas as pd\n",
    "pd.set_option('display.max_columns', None)"
   ]
  },
  {
   "cell_type": "code",
   "execution_count": 2,
   "id": "e24f1931",
   "metadata": {},
   "outputs": [],
   "source": [
    "# import des données\n",
    "path = \"/home/pa/Documents/M1/memoire/notebooks_donnees_rendu/\"\n",
    "df_in = pd.read_excel(path + 'donnees_initiales.xlsx')"
   ]
  },
  {
   "cell_type": "markdown",
   "id": "e5777fb9",
   "metadata": {},
   "source": [
    "## 1. Normaliser le nom des colonnes"
   ]
  },
  {
   "cell_type": "code",
   "execution_count": 3,
   "id": "b216dfaa",
   "metadata": {},
   "outputs": [],
   "source": [
    "# renommer les colonnes\n",
    "\n",
    "dict_pour_renommer = {'TITRE': 'code_voie_quartiers_imm', '#type_voie': 'type_voie_imm', '#code_voie': 'code_voie_imm',\n",
    "                 '#nom_voie': 'nom_voie_imm', '#quartiers': 'quartiers_imm',\n",
    "                 'complement_nom_voie': 'complement_nom_voie_imm', 'NUM': \"num_imm\", 'PART': \"precisions_imm\",\n",
    "                 'Nb d imm': \"nb_imm\", 'PERS INDIV': \"nom_pers\", 'PRENOM': \"prenom_pers\", 'ORG': \"org\",\n",
    "                 'ORG HOMOGENEISEE': \"org_hom\", 'STATUT': \"civilite_pers\", 'VILLE': \"ville_pers\",\n",
    "                 'VOIE': \"type_voie_pers\", 'RUE': \"nom_voie_pers\", 'NUM_PERS': \"num_pers\",\n",
    "                 'GER': \"ger\", 'LOC': \"departement_pers\", 'SPATIAL': \"entree_imm\", 'REMARQUE': \"rem\",\n",
    "                 'CODE INDIVIDU': \"code_pers\", 'CODE SECTEUR D ACTIVITE': \"code_secteur_activite_org\",\n",
    "                 'CODE ORG': \"code_org\",\n",
    "                 'Entrée xxx= 0,1/PARIS=1/HORS PARIS=0': \"Entree=0.1_Parisien=1.0_Nonparisien=0.0\",\n",
    "                 'Desamb PERS': \"desamb_pers\"}   \n",
    "\n",
    "df_in = df_in.rename(columns=dict_pour_renommer)"
   ]
  },
  {
   "cell_type": "markdown",
   "id": "92c3165c",
   "metadata": {},
   "source": [
    "## 2. Supprimer les colonnes inutiles"
   ]
  },
  {
   "cell_type": "code",
   "execution_count": 4,
   "id": "2f1dc246",
   "metadata": {},
   "outputs": [],
   "source": [
    "df_in = df_in.drop(['ID', 'n_order', 'Unnamed: 23', 'index'], axis=1)"
   ]
  },
  {
   "cell_type": "markdown",
   "id": "abeb663d",
   "metadata": {},
   "source": [
    "## 3. Réorganisation de l'ordre des colonnes"
   ]
  },
  {
   "cell_type": "code",
   "execution_count": 5,
   "id": "7090db9c",
   "metadata": {},
   "outputs": [],
   "source": [
    "cols_nouvel_ordre = ['code_voie_quartiers_imm',\n",
    "                     'code_voie_imm',\n",
    "                     'num_imm',\n",
    "                     'type_voie_imm',\n",
    "                     'nom_voie_imm',\n",
    "                     'nb_imm',\n",
    "                     'quartiers_imm', \n",
    "                     'complement_nom_voie_imm',\n",
    "                     'precisions_imm',\n",
    "                     \n",
    "                     'num_pers',\n",
    "                     'type_voie_pers',\n",
    "                     'nom_voie_pers',\n",
    "                     \n",
    "                     'nom_pers',\n",
    "                     'prenom_pers',\n",
    "                     'civilite_pers',\n",
    "                     'code_pers',\n",
    "                     'desamb_pers',\n",
    "                     'ville_pers',\n",
    "                     'departement_pers',\n",
    "                     'ger',\n",
    "                     \n",
    "                     'org',\n",
    "                     'org_hom',\n",
    "                     'code_org',\n",
    "                     'code_secteur_activite_org',\n",
    "                     \n",
    "                     'rem',\n",
    "                     'entree_imm',\n",
    "                     'Entree=0.1_Parisien=1.0_Nonparisien=0.0']"
   ]
  },
  {
   "cell_type": "code",
   "execution_count": 6,
   "id": "cdfe40fb",
   "metadata": {},
   "outputs": [],
   "source": [
    "df_in = df_in[cols_nouvel_ordre]"
   ]
  },
  {
   "cell_type": "markdown",
   "id": "45a7ca08",
   "metadata": {},
   "source": [
    "## 4. export du résultat"
   ]
  },
  {
   "cell_type": "code",
   "execution_count": 7,
   "id": "b957c28f",
   "metadata": {},
   "outputs": [],
   "source": [
    "df_in.to_csv('donnees_nettoyees.csv')"
   ]
  },
  {
   "cell_type": "markdown",
   "id": "daf4e070",
   "metadata": {},
   "source": [
    "***"
   ]
  }
 ],
 "metadata": {
  "kernelspec": {
   "display_name": "Python 3 (ipykernel)",
   "language": "python",
   "name": "python3"
  },
  "language_info": {
   "codemirror_mode": {
    "name": "ipython",
    "version": 3
   },
   "file_extension": ".py",
   "mimetype": "text/x-python",
   "name": "python",
   "nbconvert_exporter": "python",
   "pygments_lexer": "ipython3",
   "version": "3.9.12"
  }
 },
 "nbformat": 4,
 "nbformat_minor": 5
}
